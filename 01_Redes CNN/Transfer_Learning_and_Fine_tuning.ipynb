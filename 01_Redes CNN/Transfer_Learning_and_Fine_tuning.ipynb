{
  "nbformat": 4,
  "nbformat_minor": 0,
  "metadata": {
    "colab": {
      "name": "Transfer_Learning_and_Fine_tuning.ipynb",
      "version": "0.3.2",
      "provenance": [],
      "collapsed_sections": []
    },
    "kernelspec": {
      "name": "python3",
      "display_name": "Python 3"
    },
    "accelerator": "GPU"
  },
  "cells": [
    {
      "metadata": {
        "id": "gxJWrp-gkZ8Y",
        "colab_type": "code",
        "outputId": "1211410e-9269-4a74-fa83-d610a2d8f6fe",
        "colab": {
          "base_uri": "https://localhost:8080/",
          "height": 954
        }
      },
      "cell_type": "code",
      "source": [
        "import tensorflow as tf\n",
        "import numpy as np\n",
        "import keras\n",
        "from keras.datasets import cifar10\n",
        "from keras.models import Sequential,Model\n",
        "from keras.layers import Dense,Dropout,Flatten,Conv2D,MaxPooling2D,Input\n",
        "from keras import backend as K\n",
        "from keras.callbacks import TensorBoard\n",
        "from keras.optimizers import SGD,Adam\n",
        "from keras.applications import vgg16,resnet50,inception_resnet_v2,inception_v3,xception\n",
        "from keras_preprocessing import image\n",
        "import matplotlib.pylab as plt\n",
        "\n",
        "batch_size=100\n",
        "num_classes=10\n",
        "epochs=50\n",
        "\n",
        "\n",
        "TRANSFER_LEARNING=0\n",
        "FINE_TUNING=1\n",
        "if(TRANSFER_LEARNING):\n",
        "      image_input = Input(shape=(224,224,3))\n",
        "      modelo=vgg16.VGG16(weights='imagenet',include_top=False,input_shape=(224,224,3))\n",
        "      for layer in modelo.layers[:]:\n",
        "        layer.trainable = False\n",
        "      x=modelo.output\n",
        "      x=Flatten()(x)\n",
        "      x=Dense(1000)(x)\n",
        "      x=Dense(100)(x)\n",
        "      modelo = Model(inputs=modelo.input, outputs=x)\n",
        "      modelo.summary()\n",
        "      \n",
        "if(FINE_TUNING):\n",
        "      image_input = Input(shape=(224,224,3))\n",
        "      modelo=vgg16.VGG16(weights='imagenet',include_top=False,input_shape=(224,224,3))\n",
        "      x=modelo.output\n",
        "      x=Flatten()(x)\n",
        "      x=Dense(1000,activation='relu')(x)\n",
        "      x=Dense(100,activation='softmax')(x)\n",
        "      modelo = Model(inputs=modelo.input, outputs=x)\n",
        "      modelo.summary()\n"
      ],
      "execution_count": 12,
      "outputs": [
        {
          "output_type": "stream",
          "text": [
            "_________________________________________________________________\n",
            "Layer (type)                 Output Shape              Param #   \n",
            "=================================================================\n",
            "input_23 (InputLayer)        (None, 224, 224, 3)       0         \n",
            "_________________________________________________________________\n",
            "block1_conv1 (Conv2D)        (None, 224, 224, 64)      1792      \n",
            "_________________________________________________________________\n",
            "block1_conv2 (Conv2D)        (None, 224, 224, 64)      36928     \n",
            "_________________________________________________________________\n",
            "block1_pool (MaxPooling2D)   (None, 112, 112, 64)      0         \n",
            "_________________________________________________________________\n",
            "block2_conv1 (Conv2D)        (None, 112, 112, 128)     73856     \n",
            "_________________________________________________________________\n",
            "block2_conv2 (Conv2D)        (None, 112, 112, 128)     147584    \n",
            "_________________________________________________________________\n",
            "block2_pool (MaxPooling2D)   (None, 56, 56, 128)       0         \n",
            "_________________________________________________________________\n",
            "block3_conv1 (Conv2D)        (None, 56, 56, 256)       295168    \n",
            "_________________________________________________________________\n",
            "block3_conv2 (Conv2D)        (None, 56, 56, 256)       590080    \n",
            "_________________________________________________________________\n",
            "block3_conv3 (Conv2D)        (None, 56, 56, 256)       590080    \n",
            "_________________________________________________________________\n",
            "block3_pool (MaxPooling2D)   (None, 28, 28, 256)       0         \n",
            "_________________________________________________________________\n",
            "block4_conv1 (Conv2D)        (None, 28, 28, 512)       1180160   \n",
            "_________________________________________________________________\n",
            "block4_conv2 (Conv2D)        (None, 28, 28, 512)       2359808   \n",
            "_________________________________________________________________\n",
            "block4_conv3 (Conv2D)        (None, 28, 28, 512)       2359808   \n",
            "_________________________________________________________________\n",
            "block4_pool (MaxPooling2D)   (None, 14, 14, 512)       0         \n",
            "_________________________________________________________________\n",
            "block5_conv1 (Conv2D)        (None, 14, 14, 512)       2359808   \n",
            "_________________________________________________________________\n",
            "block5_conv2 (Conv2D)        (None, 14, 14, 512)       2359808   \n",
            "_________________________________________________________________\n",
            "block5_conv3 (Conv2D)        (None, 14, 14, 512)       2359808   \n",
            "_________________________________________________________________\n",
            "block5_pool (MaxPooling2D)   (None, 7, 7, 512)         0         \n",
            "_________________________________________________________________\n",
            "flatten_9 (Flatten)          (None, 25088)             0         \n",
            "_________________________________________________________________\n",
            "dense_9 (Dense)              (None, 1000)              25089000  \n",
            "_________________________________________________________________\n",
            "dense_10 (Dense)             (None, 100)               100100    \n",
            "=================================================================\n",
            "Total params: 39,903,788\n",
            "Trainable params: 39,903,788\n",
            "Non-trainable params: 0\n",
            "_________________________________________________________________\n"
          ],
          "name": "stdout"
        }
      ]
    },
    {
      "metadata": {
        "id": "eAhBjpHv2Q8N",
        "colab_type": "code",
        "colab": {}
      },
      "cell_type": "code",
      "source": [
        ""
      ],
      "execution_count": 0,
      "outputs": []
    }
  ]
}